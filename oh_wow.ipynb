{
 "cells": [
  {
   "cell_type": "markdown",
   "metadata": {},
   "source": [
    "# <center>Вариация модели Басса для распространения инноваций по регионам"
   ]
  },
  {
   "cell_type": "markdown",
   "metadata": {},
   "source": [
    "### Постановака задачи\n",
    "\n",
    "#### Одномерный случай:\n",
    "\n",
    "\n",
    "$$ A(t) - adopters \\\\ \n",
    "plA(t) - potential \\quad adopters \\\\\n",
    "p - total \\quad population \\\\\n",
    "adv - advertising \\quad effect \\\\\n",
    "c - contact \\quad rate \\\\\n",
    "af - adoption \\quad fraction $$\n",
    "\n",
    "#### Модель: \n",
    "\n",
    "$$ \\begin{cases} \n",
    "A(t) = A(t - 1) + pA(t - 1)(adv + \\frac{A(t-1)}{p} *c * af) \\\\\n",
    "pA(t) = pA(t -1) * (1 - adv - \\frac{A(t-1)}{p} *c * af) \\\\\n",
    "A(0) = 0 \\\\ \n",
    "pA(0) = p \\\\\n",
    "\\end{cases}\n",
    "$$"
   ]
  },
  {
   "cell_type": "markdown",
   "metadata": {},
   "source": [
    "Расширим эту модель следующим образом:\n",
    "\n",
    "Добавим возможность отрицательного влияния.\n",
    "<li> Пусть теперь с некоторой вероятностью потенциальные покупатели не станут покупателями </li>\n",
    "<li> То есть уже не все потенциальные покупатели станут покупателями </li>\n",
    "\n",
    "Пусть теперь есть несколько регионов.\n",
    "<li> Добавим влияние соседних регионов друг на друга. </li>\n",
    "<li> Оно может быть как положительным, так и отрицательным </li>"
   ]
  },
  {
   "cell_type": "markdown",
   "metadata": {},
   "source": [
    "#### Многомерный случай:\n",
    "\n",
    "\n",
    "$$ A_i(t) - adopters \\quad in \\quad i \\quad region\\\\ \n",
    "plA_i(t) - potential \\quad adopters \\quad in \\quad i \\quad region\\\\\n",
    "p_i - total \\quad population \\quad in \\quad i \\quad region\\\\\n",
    "adv_i - advertising \\quad effect \\quad in \\quad i \\quad region\\\\\n",
    "c_i - contact \\quad rate \\quad in \\quad i \\quad region\\\\\n",
    "af_i - adoption \\quad fraction \\quad in \\quad i \\quad region\\\\\n",
    "prob_i - probability \\quad in \\quad i \\quad region \\\\\n",
    "X_{ij} - connection \\quad between \\quad i \\quad and \\quad j\n",
    "$$\n",
    "\n",
    "#### Модель: \n",
    "\n",
    "$$ \\begin{cases} \n",
    "A_i(t) = A_i(t - 1) + pA_i(t - 1)(adv_i + res(prob_{it}) * \\frac{A_i(t-1)}{p_i} *c_i * af_i + \\sum_{j}^{neigbours} res(prob_{jt}) * \\frac{A_j(t-1)}{p_j} *c_j * af_i * X_{ij}) \\\\\n",
    "pA_i(t) = pA_i(t -1) * (1 - adv_i - \\frac{A_i(t-1)}{p_i} *c_i * af_i - \\sum_{j}^{neigbours}  \\frac{A_j(t-1)}{p_j} *c_j * af_i * X_{ij}) \\\\\n",
    "A_i(0) = 0 \\\\ \n",
    "pA_i(0) = p_i \\\\\n",
    "\\end{cases}\n",
    "$$\n",
    "\n",
    "#### Можно упростить как: \n",
    "\n",
    "$$ \\begin{cases} \n",
    "A_i(t) = A_i(t - 1) + pA_i(t - 1)(adv_i + \\sum_{ij}^{neigbours} res(prob_{jt}) * \\frac{A_j(t-1)}{p_j} *c_j * af_i * X_{ij}) \\\\\n",
    "pA_i(t) = pA_i(t -1) * (1 - adv_i  - \\sum_{ij}^{neigbours}  \\frac{A_j(t-1)}{p_j} *c_j * af_i * X_{ij}) \\\\\n",
    "A_i(0) = 0 \\\\ \n",
    "pA_i(0) = p_i \\\\ \n",
    "X_{ii} = 1 \\quad \\forall i\n",
    "\\end{cases}\n",
    "$$"
   ]
  },
  {
   "cell_type": "markdown",
   "metadata": {},
   "source": [
    "## Начальные данные\n",
    "\n",
    "Рассмотрим федеральные округа"
   ]
  },
  {
   "attachments": {},
   "cell_type": "markdown",
   "metadata": {},
   "source": [
    "<img src=\"1.png\">"
   ]
  },
  {
   "cell_type": "markdown",
   "metadata": {},
   "source": [
    "<p> 1 - центральный федеральный округ</p>\n",
    "<p> 2 - северо-западный федеральный округ</p>\n",
    "<p> 3 - уральский федеральный округ</p>\n",
    "<p> 4 - южный федеральный округ</p>\n",
    "<p> 5 - приволжский федеральный округ</p>"
   ]
  },
  {
   "cell_type": "code",
   "execution_count": 1,
   "metadata": {},
   "outputs": [],
   "source": [
    "p1 = 39311413; #численность населения\n",
    "p2 = 13952003;\n",
    "p3 = 12356229;\n",
    "p4 = 16441852;\n",
    "p5 = 29542696;\n",
    "\n",
    "adv1 = 0.05; # эффективность рекламы\n",
    "adv2 = 0.04;\n",
    "adv3 = 0;\n",
    "adv4 = 0;\n",
    "adv5 = 0;\n",
    "\n",
    "c1 = 2; # сарафанное радио\n",
    "c2 = 4;\n",
    "c3 = 6;\n",
    "c4 = 12;\n",
    "c5 = 8;\n",
    "\n",
    "af1 = 0.02;\n",
    "af2 = 0.02;\n",
    "af3 = 0.02;\n",
    "af4 = 0.02;\n",
    "af5 = 0.02;\n",
    "\n",
    "prob1 = 0.8; # вероятность положительного влияния\n",
    "prob2 = 0.6;\n",
    "prob3 = 0.85;\n",
    "prob4 = 0.9;\n",
    "prob5 = 0.75;"
   ]
  },
  {
   "cell_type": "markdown",
   "metadata": {},
   "source": [
    "### Импорты"
   ]
  },
  {
   "cell_type": "code",
   "execution_count": 2,
   "metadata": {},
   "outputs": [],
   "source": [
    "import numpy as np\n",
    "import pandas as pd\n",
    "import matplotlib.pyplot as plt"
   ]
  },
  {
   "cell_type": "markdown",
   "metadata": {},
   "source": [
    "### Матрица связи\n",
    "Матрица Х может быть как симметричной, так и нет. \n",
    "\n",
    "\n",
    "Если матрица симметрична - округа влияют друг на друга в одинаковой степени. "
   ]
  },
  {
   "cell_type": "code",
   "execution_count": 3,
   "metadata": {},
   "outputs": [],
   "source": [
    "X = np.eye(5) \n",
    "X[0,1] = 0.05 \n",
    "X[1,0] = 0.05\n",
    "X[1,2] = 0.05\n",
    "X[2,1] = 0.02\n",
    "X[0,4] = 0.04\n",
    "X[4,0] = 0.02\n",
    "X[1,4] = 0.03\n",
    "X[4,1] = 0.03\n",
    "X[2,4] = 0.04\n",
    "X[4,2] = 0.05\n",
    "X[0,3] = 0.04\n",
    "X[3,0] = 0.02\n",
    "X[2,3] = 0.04\n",
    "X[3,2] = 0.03"
   ]
  },
  {
   "cell_type": "code",
   "execution_count": 4,
   "metadata": {},
   "outputs": [
    {
     "data": {
      "text/plain": [
       "array([[1.  , 0.05, 0.  , 0.04, 0.04],\n",
       "       [0.05, 1.  , 0.05, 0.  , 0.03],\n",
       "       [0.  , 0.02, 1.  , 0.04, 0.04],\n",
       "       [0.02, 0.  , 0.03, 1.  , 0.  ],\n",
       "       [0.02, 0.03, 0.05, 0.  , 1.  ]])"
      ]
     },
     "execution_count": 4,
     "metadata": {},
     "output_type": "execute_result"
    }
   ],
   "source": [
    "X"
   ]
  },
  {
   "cell_type": "markdown",
   "metadata": {},
   "source": [
    "## Вспомогательные функции"
   ]
  },
  {
   "cell_type": "markdown",
   "metadata": {},
   "source": [
    "Случайный эксперимент, симулирующий поведение каждого из a покупателей."
   ]
  },
  {
   "cell_type": "code",
   "execution_count": 72,
   "metadata": {},
   "outputs": [],
   "source": [
    "def res_prob(prob, a): \n",
    "    if a == 0:\n",
    "        return prob\n",
    "    else:\n",
    "        return len(list(filter(lambda x: x < prob, [np.random.rand(1)[0] for i in range(int(a))]))) / a"
   ]
  },
  {
   "cell_type": "code",
   "execution_count": 73,
   "metadata": {},
   "outputs": [],
   "source": [
    "def get_connections(X, A, prob, c, af, t, i, check):\n",
    "    if check == 1:\n",
    "        #print(prob[1],A[1][t-1], res_prob(prob[1], A[1][t-1]))\n",
    "        #l = [res_prob(prob[j], A[j][t-1])*(A[j][t - 1] / p[j]) * c[j] * af[j] * X[j,i] for j in range(5)]\n",
    "        #l1= [(A[j][t - 1] / p[j]) * c[j] * af[j] * X[j,i] for j in range(5)]\n",
    "        #l2 = [(A[j][t - 1]) for j in range(5)]\n",
    "        #print(l, l1, l2)\n",
    "        return sum([res_prob(prob[j], A[j][t-1])*(A[j][t - 1] / p[j]) * c[j] * af[j] * X[j,i] for j in range(5)])\n",
    "    else:\n",
    "        return sum([(A[j][t - 1] / p[j]) * c[j] * af[j] * X[j,i] for j in range(5)])"
   ]
  },
  {
   "cell_type": "markdown",
   "metadata": {},
   "source": [
    "## Реализация"
   ]
  },
  {
   "cell_type": "code",
   "execution_count": 74,
   "metadata": {},
   "outputs": [],
   "source": [
    "A = [[0] for i in range(5)];\n",
    "pA = [[p1], [p2], [p3], [p4], [p5]];\n",
    "p = [p1, p2, p3, p4, p5];\n",
    "c = [c1, c2, c3, c4, c5];\n",
    "adv = [adv1, adv2, adv3, adv4, adv5];\n",
    "af = [af1, af2, af3, af4, af5];\n",
    "prob = [prob1, prob2, prob3, prob4, prob5];"
   ]
  },
  {
   "cell_type": "code",
   "execution_count": 75,
   "metadata": {},
   "outputs": [],
   "source": [
    "def imitation(time_limit, A, pA, p, c, adv, af, prob):\n",
    "    for t in range(1, time_limit):\n",
    "        print(t)\n",
    "        A1 = A\n",
    "        pA1 = pA\n",
    "        print(A1)\n",
    "        print(pA1)\n",
    "        for i in range(5):\n",
    "            A1[i].append(A1[i][t-1] + pA1[i][t-1] * (adv[i] + get_connections(X, A1, prob, c, af, t, i, 1)))\n",
    "            pA1[i].append(pA1[i][t-1] * (1 - adv[i] - get_connections(X, A1, prob, c, af, t, i, 0)))\n",
    "            print()\n",
    "            print(A1)\n",
    "            print(pA1)\n",
    "    return [A1, pA1]"
   ]
  },
  {
   "cell_type": "code",
   "execution_count": 76,
   "metadata": {},
   "outputs": [
    {
     "name": "stdout",
     "output_type": "stream",
     "text": [
      "1\n",
      "[[0], [0], [0], [0], [0]]\n",
      "[[39311413], [13952003], [12356229], [16441852], [29542696]]\n",
      "\n",
      "[[0, 1965570.6500000001], [0], [0], [0], [0]]\n",
      "[[39311413, 37345842.35], [13952003], [12356229], [16441852], [29542696]]\n",
      "\n",
      "[[0, 1965570.6500000001], [0, 558080.12], [0], [0], [0]]\n",
      "[[39311413, 37345842.35], [13952003, 13393922.879999999], [12356229], [16441852], [29542696]]\n",
      "\n",
      "[[0, 1965570.6500000001], [0, 558080.12], [0, 0.0], [0], [0]]\n",
      "[[39311413, 37345842.35], [13952003, 13393922.879999999], [12356229, 12356229.0], [16441852], [29542696]]\n",
      "\n",
      "[[0, 1965570.6500000001], [0, 558080.12], [0, 0.0], [0, 0.0], [0]]\n",
      "[[39311413, 37345842.35], [13952003, 13393922.879999999], [12356229, 12356229.0], [16441852, 16441852.0], [29542696]]\n",
      "\n",
      "[[0, 1965570.6500000001], [0, 558080.12], [0, 0.0], [0, 0.0], [0, 0.0]]\n",
      "[[39311413, 37345842.35], [13952003, 13393922.879999999], [12356229, 12356229.0], [16441852, 16441852.0], [29542696, 29542696.0]]\n",
      "2\n",
      "[[0, 1965570.6500000001], [0, 558080.12], [0, 0.0], [0, 0.0], [0, 0.0]]\n",
      "[[39311413, 37345842.35], [13952003, 13393922.879999999], [12356229, 12356229.0], [16441852, 16441852.0], [29542696, 29542696.0]]\n",
      "\n",
      "[[0, 1965570.6500000001, 3896197.6341626896], [0, 558080.12], [0, 0.0], [0, 0.0], [0, 0.0]]\n",
      "[[39311413, 37345842.35, 35397883.213024], [13952003, 13393922.879999999], [12356229, 12356229.0], [16441852, 16441852.0], [29542696, 29542696.0]]\n",
      "\n",
      "[[0, 1965570.6500000001, 3896197.6341626896], [0, 558080.12, 1120638.8402091628], [0, 0.0], [0, 0.0], [0, 0.0]]\n",
      "[[39311413, 37345842.35, 35397883.213024], [13952003, 13393922.879999999, 12813966.019296], [12356229, 12356229.0], [16441852, 16441852.0], [29542696, 29542696.0]]\n",
      "\n",
      "[[0, 1965570.6500000001, 3896197.6341626896], [0, 558080.12, 1120638.8402091628], [0, 0.0, 1185.411294809498], [0, 0.0], [0, 0.0]]\n",
      "[[39311413, 37345842.35, 35397883.213024], [13952003, 13393922.879999999, 12813966.019296], [12356229, 12356229.0, 12354252.00336], [16441852, 16441852.0], [29542696, 29542696.0]]\n",
      "\n",
      "[[0, 1965570.6500000001, 3896197.6341626896], [0, 558080.12, 1120638.8402091628], [0, 0.0, 1185.411294809498], [0, 0.0, 1051.260335887494], [0, 0.0]]\n",
      "[[39311413, 37345842.35, 35397883.213024], [13952003, 13393922.879999999, 12813966.019296], [12356229, 12356229.0, 12354252.00336], [16441852, 16441852.0, 16440536.651840001], [29542696, 29542696.0]]\n",
      "\n",
      "[[0, 1965570.6500000001, 3896197.6341626896], [0, 558080.12, 1120638.8402091628], [0, 0.0, 1185.411294809498], [0, 0.0, 1051.260335887494], [0, 0.0, 3591.3205839620864]]\n",
      "[[39311413, 37345842.35, 35397883.213024], [13952003, 13393922.879999999, 12813966.019296], [12356229, 12356229.0, 12354252.00336], [16441852, 16441852.0, 16440536.651840001], [29542696, 29542696.0, 29537496.485504]]\n",
      "3\n",
      "[[0, 1965570.6500000001, 3896197.6341626896], [0, 558080.12, 1120638.8402091628], [0, 0.0, 1185.411294809498], [0, 0.0, 1051.260335887494], [0, 0.0, 3591.3205839620864]]\n",
      "[[39311413, 37345842.35, 35397883.213024], [13952003, 13393922.879999999, 12813966.019296], [12356229, 12356229.0, 12354252.00336], [16441852, 16441852.0, 16440536.651840001], [29542696, 29542696.0, 29537496.485504]]\n"
     ]
    },
    {
     "ename": "KeyboardInterrupt",
     "evalue": "",
     "output_type": "error",
     "traceback": [
      "\u001b[0;31m---------------------------------------------------------------------------\u001b[0m",
      "\u001b[0;31mKeyboardInterrupt\u001b[0m                         Traceback (most recent call last)",
      "\u001b[0;32m<ipython-input-76-4fcd11da3df3>\u001b[0m in \u001b[0;36m<module>\u001b[0;34m\u001b[0m\n\u001b[0;32m----> 1\u001b[0;31m \u001b[0mimitation\u001b[0m\u001b[0;34m(\u001b[0m\u001b[0;36m10\u001b[0m\u001b[0;34m,\u001b[0m \u001b[0mA\u001b[0m\u001b[0;34m,\u001b[0m \u001b[0mpA\u001b[0m\u001b[0;34m,\u001b[0m \u001b[0mp\u001b[0m\u001b[0;34m,\u001b[0m \u001b[0mc\u001b[0m\u001b[0;34m,\u001b[0m \u001b[0madv\u001b[0m\u001b[0;34m,\u001b[0m \u001b[0maf\u001b[0m\u001b[0;34m,\u001b[0m \u001b[0mprob\u001b[0m\u001b[0;34m)\u001b[0m\u001b[0;34m\u001b[0m\u001b[0m\n\u001b[0m",
      "\u001b[0;32m<ipython-input-75-8352f616d0e4>\u001b[0m in \u001b[0;36mimitation\u001b[0;34m(time_limit, A, pA, p, c, adv, af, prob)\u001b[0m\n\u001b[1;32m      7\u001b[0m         \u001b[0mprint\u001b[0m\u001b[0;34m(\u001b[0m\u001b[0mpA1\u001b[0m\u001b[0;34m)\u001b[0m\u001b[0;34m\u001b[0m\u001b[0m\n\u001b[1;32m      8\u001b[0m         \u001b[0;32mfor\u001b[0m \u001b[0mi\u001b[0m \u001b[0;32min\u001b[0m \u001b[0mrange\u001b[0m\u001b[0;34m(\u001b[0m\u001b[0;36m5\u001b[0m\u001b[0;34m)\u001b[0m\u001b[0;34m:\u001b[0m\u001b[0;34m\u001b[0m\u001b[0m\n\u001b[0;32m----> 9\u001b[0;31m             \u001b[0mA1\u001b[0m\u001b[0;34m[\u001b[0m\u001b[0mi\u001b[0m\u001b[0;34m]\u001b[0m\u001b[0;34m.\u001b[0m\u001b[0mappend\u001b[0m\u001b[0;34m(\u001b[0m\u001b[0mA1\u001b[0m\u001b[0;34m[\u001b[0m\u001b[0mi\u001b[0m\u001b[0;34m]\u001b[0m\u001b[0;34m[\u001b[0m\u001b[0mt\u001b[0m\u001b[0;34m-\u001b[0m\u001b[0;36m1\u001b[0m\u001b[0;34m]\u001b[0m \u001b[0;34m+\u001b[0m \u001b[0mpA1\u001b[0m\u001b[0;34m[\u001b[0m\u001b[0mi\u001b[0m\u001b[0;34m]\u001b[0m\u001b[0;34m[\u001b[0m\u001b[0mt\u001b[0m\u001b[0;34m-\u001b[0m\u001b[0;36m1\u001b[0m\u001b[0;34m]\u001b[0m \u001b[0;34m*\u001b[0m \u001b[0;34m(\u001b[0m\u001b[0madv\u001b[0m\u001b[0;34m[\u001b[0m\u001b[0mi\u001b[0m\u001b[0;34m]\u001b[0m \u001b[0;34m+\u001b[0m \u001b[0mget_connections\u001b[0m\u001b[0;34m(\u001b[0m\u001b[0mX\u001b[0m\u001b[0;34m,\u001b[0m \u001b[0mA1\u001b[0m\u001b[0;34m,\u001b[0m \u001b[0mprob\u001b[0m\u001b[0;34m,\u001b[0m \u001b[0mc\u001b[0m\u001b[0;34m,\u001b[0m \u001b[0maf\u001b[0m\u001b[0;34m,\u001b[0m \u001b[0mt\u001b[0m\u001b[0;34m,\u001b[0m \u001b[0mi\u001b[0m\u001b[0;34m,\u001b[0m \u001b[0;36m1\u001b[0m\u001b[0;34m)\u001b[0m\u001b[0;34m)\u001b[0m\u001b[0;34m)\u001b[0m\u001b[0;34m\u001b[0m\u001b[0m\n\u001b[0m\u001b[1;32m     10\u001b[0m             \u001b[0mpA1\u001b[0m\u001b[0;34m[\u001b[0m\u001b[0mi\u001b[0m\u001b[0;34m]\u001b[0m\u001b[0;34m.\u001b[0m\u001b[0mappend\u001b[0m\u001b[0;34m(\u001b[0m\u001b[0mpA1\u001b[0m\u001b[0;34m[\u001b[0m\u001b[0mi\u001b[0m\u001b[0;34m]\u001b[0m\u001b[0;34m[\u001b[0m\u001b[0mt\u001b[0m\u001b[0;34m-\u001b[0m\u001b[0;36m1\u001b[0m\u001b[0;34m]\u001b[0m \u001b[0;34m*\u001b[0m \u001b[0;34m(\u001b[0m\u001b[0;36m1\u001b[0m \u001b[0;34m-\u001b[0m \u001b[0madv\u001b[0m\u001b[0;34m[\u001b[0m\u001b[0mi\u001b[0m\u001b[0;34m]\u001b[0m \u001b[0;34m-\u001b[0m \u001b[0mget_connections\u001b[0m\u001b[0;34m(\u001b[0m\u001b[0mX\u001b[0m\u001b[0;34m,\u001b[0m \u001b[0mA1\u001b[0m\u001b[0;34m,\u001b[0m \u001b[0mprob\u001b[0m\u001b[0;34m,\u001b[0m \u001b[0mc\u001b[0m\u001b[0;34m,\u001b[0m \u001b[0maf\u001b[0m\u001b[0;34m,\u001b[0m \u001b[0mt\u001b[0m\u001b[0;34m,\u001b[0m \u001b[0mi\u001b[0m\u001b[0;34m,\u001b[0m \u001b[0;36m0\u001b[0m\u001b[0;34m)\u001b[0m\u001b[0;34m)\u001b[0m\u001b[0;34m)\u001b[0m\u001b[0;34m\u001b[0m\u001b[0m\n\u001b[1;32m     11\u001b[0m             \u001b[0mprint\u001b[0m\u001b[0;34m(\u001b[0m\u001b[0;34m)\u001b[0m\u001b[0;34m\u001b[0m\u001b[0m\n",
      "\u001b[0;32m<ipython-input-73-f39da086d9bc>\u001b[0m in \u001b[0;36mget_connections\u001b[0;34m(X, A, prob, c, af, t, i, check)\u001b[0m\n\u001b[1;32m      6\u001b[0m         \u001b[0;31m#l2 = [(A[j][t - 1]) for j in range(5)]\u001b[0m\u001b[0;34m\u001b[0m\u001b[0;34m\u001b[0m\u001b[0m\n\u001b[1;32m      7\u001b[0m         \u001b[0;31m#print(l, l1, l2)\u001b[0m\u001b[0;34m\u001b[0m\u001b[0;34m\u001b[0m\u001b[0m\n\u001b[0;32m----> 8\u001b[0;31m         \u001b[0;32mreturn\u001b[0m \u001b[0msum\u001b[0m\u001b[0;34m(\u001b[0m\u001b[0;34m[\u001b[0m\u001b[0mres_prob\u001b[0m\u001b[0;34m(\u001b[0m\u001b[0mprob\u001b[0m\u001b[0;34m[\u001b[0m\u001b[0mj\u001b[0m\u001b[0;34m]\u001b[0m\u001b[0;34m,\u001b[0m \u001b[0mA\u001b[0m\u001b[0;34m[\u001b[0m\u001b[0mj\u001b[0m\u001b[0;34m]\u001b[0m\u001b[0;34m[\u001b[0m\u001b[0mt\u001b[0m\u001b[0;34m-\u001b[0m\u001b[0;36m1\u001b[0m\u001b[0;34m]\u001b[0m\u001b[0;34m)\u001b[0m\u001b[0;34m*\u001b[0m\u001b[0;34m(\u001b[0m\u001b[0mA\u001b[0m\u001b[0;34m[\u001b[0m\u001b[0mj\u001b[0m\u001b[0;34m]\u001b[0m\u001b[0;34m[\u001b[0m\u001b[0mt\u001b[0m \u001b[0;34m-\u001b[0m \u001b[0;36m1\u001b[0m\u001b[0;34m]\u001b[0m \u001b[0;34m/\u001b[0m \u001b[0mp\u001b[0m\u001b[0;34m[\u001b[0m\u001b[0mj\u001b[0m\u001b[0;34m]\u001b[0m\u001b[0;34m)\u001b[0m \u001b[0;34m*\u001b[0m \u001b[0mc\u001b[0m\u001b[0;34m[\u001b[0m\u001b[0mj\u001b[0m\u001b[0;34m]\u001b[0m \u001b[0;34m*\u001b[0m \u001b[0maf\u001b[0m\u001b[0;34m[\u001b[0m\u001b[0mj\u001b[0m\u001b[0;34m]\u001b[0m \u001b[0;34m*\u001b[0m \u001b[0mX\u001b[0m\u001b[0;34m[\u001b[0m\u001b[0mj\u001b[0m\u001b[0;34m,\u001b[0m\u001b[0mi\u001b[0m\u001b[0;34m]\u001b[0m \u001b[0;32mfor\u001b[0m \u001b[0mj\u001b[0m \u001b[0;32min\u001b[0m \u001b[0mrange\u001b[0m\u001b[0;34m(\u001b[0m\u001b[0;36m5\u001b[0m\u001b[0;34m)\u001b[0m\u001b[0;34m]\u001b[0m\u001b[0;34m)\u001b[0m\u001b[0;34m\u001b[0m\u001b[0m\n\u001b[0m\u001b[1;32m      9\u001b[0m     \u001b[0;32melse\u001b[0m\u001b[0;34m:\u001b[0m\u001b[0;34m\u001b[0m\u001b[0m\n\u001b[1;32m     10\u001b[0m         \u001b[0;32mreturn\u001b[0m \u001b[0msum\u001b[0m\u001b[0;34m(\u001b[0m\u001b[0;34m[\u001b[0m\u001b[0;34m(\u001b[0m\u001b[0mA\u001b[0m\u001b[0;34m[\u001b[0m\u001b[0mj\u001b[0m\u001b[0;34m]\u001b[0m\u001b[0;34m[\u001b[0m\u001b[0mt\u001b[0m \u001b[0;34m-\u001b[0m \u001b[0;36m1\u001b[0m\u001b[0;34m]\u001b[0m \u001b[0;34m/\u001b[0m \u001b[0mp\u001b[0m\u001b[0;34m[\u001b[0m\u001b[0mj\u001b[0m\u001b[0;34m]\u001b[0m\u001b[0;34m)\u001b[0m \u001b[0;34m*\u001b[0m \u001b[0mc\u001b[0m\u001b[0;34m[\u001b[0m\u001b[0mj\u001b[0m\u001b[0;34m]\u001b[0m \u001b[0;34m*\u001b[0m \u001b[0maf\u001b[0m\u001b[0;34m[\u001b[0m\u001b[0mj\u001b[0m\u001b[0;34m]\u001b[0m \u001b[0;34m*\u001b[0m \u001b[0mX\u001b[0m\u001b[0;34m[\u001b[0m\u001b[0mj\u001b[0m\u001b[0;34m,\u001b[0m\u001b[0mi\u001b[0m\u001b[0;34m]\u001b[0m \u001b[0;32mfor\u001b[0m \u001b[0mj\u001b[0m \u001b[0;32min\u001b[0m \u001b[0mrange\u001b[0m\u001b[0;34m(\u001b[0m\u001b[0;36m5\u001b[0m\u001b[0;34m)\u001b[0m\u001b[0;34m]\u001b[0m\u001b[0;34m)\u001b[0m\u001b[0;34m\u001b[0m\u001b[0m\n",
      "\u001b[0;32m<ipython-input-73-f39da086d9bc>\u001b[0m in \u001b[0;36m<listcomp>\u001b[0;34m(.0)\u001b[0m\n\u001b[1;32m      6\u001b[0m         \u001b[0;31m#l2 = [(A[j][t - 1]) for j in range(5)]\u001b[0m\u001b[0;34m\u001b[0m\u001b[0;34m\u001b[0m\u001b[0m\n\u001b[1;32m      7\u001b[0m         \u001b[0;31m#print(l, l1, l2)\u001b[0m\u001b[0;34m\u001b[0m\u001b[0;34m\u001b[0m\u001b[0m\n\u001b[0;32m----> 8\u001b[0;31m         \u001b[0;32mreturn\u001b[0m \u001b[0msum\u001b[0m\u001b[0;34m(\u001b[0m\u001b[0;34m[\u001b[0m\u001b[0mres_prob\u001b[0m\u001b[0;34m(\u001b[0m\u001b[0mprob\u001b[0m\u001b[0;34m[\u001b[0m\u001b[0mj\u001b[0m\u001b[0;34m]\u001b[0m\u001b[0;34m,\u001b[0m \u001b[0mA\u001b[0m\u001b[0;34m[\u001b[0m\u001b[0mj\u001b[0m\u001b[0;34m]\u001b[0m\u001b[0;34m[\u001b[0m\u001b[0mt\u001b[0m\u001b[0;34m-\u001b[0m\u001b[0;36m1\u001b[0m\u001b[0;34m]\u001b[0m\u001b[0;34m)\u001b[0m\u001b[0;34m*\u001b[0m\u001b[0;34m(\u001b[0m\u001b[0mA\u001b[0m\u001b[0;34m[\u001b[0m\u001b[0mj\u001b[0m\u001b[0;34m]\u001b[0m\u001b[0;34m[\u001b[0m\u001b[0mt\u001b[0m \u001b[0;34m-\u001b[0m \u001b[0;36m1\u001b[0m\u001b[0;34m]\u001b[0m \u001b[0;34m/\u001b[0m \u001b[0mp\u001b[0m\u001b[0;34m[\u001b[0m\u001b[0mj\u001b[0m\u001b[0;34m]\u001b[0m\u001b[0;34m)\u001b[0m \u001b[0;34m*\u001b[0m \u001b[0mc\u001b[0m\u001b[0;34m[\u001b[0m\u001b[0mj\u001b[0m\u001b[0;34m]\u001b[0m \u001b[0;34m*\u001b[0m \u001b[0maf\u001b[0m\u001b[0;34m[\u001b[0m\u001b[0mj\u001b[0m\u001b[0;34m]\u001b[0m \u001b[0;34m*\u001b[0m \u001b[0mX\u001b[0m\u001b[0;34m[\u001b[0m\u001b[0mj\u001b[0m\u001b[0;34m,\u001b[0m\u001b[0mi\u001b[0m\u001b[0;34m]\u001b[0m \u001b[0;32mfor\u001b[0m \u001b[0mj\u001b[0m \u001b[0;32min\u001b[0m \u001b[0mrange\u001b[0m\u001b[0;34m(\u001b[0m\u001b[0;36m5\u001b[0m\u001b[0;34m)\u001b[0m\u001b[0;34m]\u001b[0m\u001b[0;34m)\u001b[0m\u001b[0;34m\u001b[0m\u001b[0m\n\u001b[0m\u001b[1;32m      9\u001b[0m     \u001b[0;32melse\u001b[0m\u001b[0;34m:\u001b[0m\u001b[0;34m\u001b[0m\u001b[0m\n\u001b[1;32m     10\u001b[0m         \u001b[0;32mreturn\u001b[0m \u001b[0msum\u001b[0m\u001b[0;34m(\u001b[0m\u001b[0;34m[\u001b[0m\u001b[0;34m(\u001b[0m\u001b[0mA\u001b[0m\u001b[0;34m[\u001b[0m\u001b[0mj\u001b[0m\u001b[0;34m]\u001b[0m\u001b[0;34m[\u001b[0m\u001b[0mt\u001b[0m \u001b[0;34m-\u001b[0m \u001b[0;36m1\u001b[0m\u001b[0;34m]\u001b[0m \u001b[0;34m/\u001b[0m \u001b[0mp\u001b[0m\u001b[0;34m[\u001b[0m\u001b[0mj\u001b[0m\u001b[0;34m]\u001b[0m\u001b[0;34m)\u001b[0m \u001b[0;34m*\u001b[0m \u001b[0mc\u001b[0m\u001b[0;34m[\u001b[0m\u001b[0mj\u001b[0m\u001b[0;34m]\u001b[0m \u001b[0;34m*\u001b[0m \u001b[0maf\u001b[0m\u001b[0;34m[\u001b[0m\u001b[0mj\u001b[0m\u001b[0;34m]\u001b[0m \u001b[0;34m*\u001b[0m \u001b[0mX\u001b[0m\u001b[0;34m[\u001b[0m\u001b[0mj\u001b[0m\u001b[0;34m,\u001b[0m\u001b[0mi\u001b[0m\u001b[0;34m]\u001b[0m \u001b[0;32mfor\u001b[0m \u001b[0mj\u001b[0m \u001b[0;32min\u001b[0m \u001b[0mrange\u001b[0m\u001b[0;34m(\u001b[0m\u001b[0;36m5\u001b[0m\u001b[0;34m)\u001b[0m\u001b[0;34m]\u001b[0m\u001b[0;34m)\u001b[0m\u001b[0;34m\u001b[0m\u001b[0m\n",
      "\u001b[0;32m<ipython-input-72-0616478979dd>\u001b[0m in \u001b[0;36mres_prob\u001b[0;34m(prob, a)\u001b[0m\n\u001b[1;32m      3\u001b[0m         \u001b[0;32mreturn\u001b[0m \u001b[0mprob\u001b[0m\u001b[0;34m\u001b[0m\u001b[0m\n\u001b[1;32m      4\u001b[0m     \u001b[0;32melse\u001b[0m\u001b[0;34m:\u001b[0m\u001b[0;34m\u001b[0m\u001b[0m\n\u001b[0;32m----> 5\u001b[0;31m         \u001b[0;32mreturn\u001b[0m \u001b[0mlen\u001b[0m\u001b[0;34m(\u001b[0m\u001b[0mlist\u001b[0m\u001b[0;34m(\u001b[0m\u001b[0mfilter\u001b[0m\u001b[0;34m(\u001b[0m\u001b[0;32mlambda\u001b[0m \u001b[0mx\u001b[0m\u001b[0;34m:\u001b[0m \u001b[0mx\u001b[0m \u001b[0;34m<\u001b[0m \u001b[0mprob\u001b[0m\u001b[0;34m,\u001b[0m \u001b[0;34m[\u001b[0m\u001b[0mnp\u001b[0m\u001b[0;34m.\u001b[0m\u001b[0mrandom\u001b[0m\u001b[0;34m.\u001b[0m\u001b[0mrand\u001b[0m\u001b[0;34m(\u001b[0m\u001b[0;36m1\u001b[0m\u001b[0;34m)\u001b[0m\u001b[0;34m[\u001b[0m\u001b[0;36m0\u001b[0m\u001b[0;34m]\u001b[0m \u001b[0;32mfor\u001b[0m \u001b[0mi\u001b[0m \u001b[0;32min\u001b[0m \u001b[0mrange\u001b[0m\u001b[0;34m(\u001b[0m\u001b[0mint\u001b[0m\u001b[0;34m(\u001b[0m\u001b[0ma\u001b[0m\u001b[0;34m)\u001b[0m\u001b[0;34m)\u001b[0m\u001b[0;34m]\u001b[0m\u001b[0;34m)\u001b[0m\u001b[0;34m)\u001b[0m\u001b[0;34m)\u001b[0m \u001b[0;34m/\u001b[0m \u001b[0ma\u001b[0m\u001b[0;34m\u001b[0m\u001b[0m\n\u001b[0m",
      "\u001b[0;32m<ipython-input-72-0616478979dd>\u001b[0m in \u001b[0;36m<listcomp>\u001b[0;34m(.0)\u001b[0m\n\u001b[1;32m      3\u001b[0m         \u001b[0;32mreturn\u001b[0m \u001b[0mprob\u001b[0m\u001b[0;34m\u001b[0m\u001b[0m\n\u001b[1;32m      4\u001b[0m     \u001b[0;32melse\u001b[0m\u001b[0;34m:\u001b[0m\u001b[0;34m\u001b[0m\u001b[0m\n\u001b[0;32m----> 5\u001b[0;31m         \u001b[0;32mreturn\u001b[0m \u001b[0mlen\u001b[0m\u001b[0;34m(\u001b[0m\u001b[0mlist\u001b[0m\u001b[0;34m(\u001b[0m\u001b[0mfilter\u001b[0m\u001b[0;34m(\u001b[0m\u001b[0;32mlambda\u001b[0m \u001b[0mx\u001b[0m\u001b[0;34m:\u001b[0m \u001b[0mx\u001b[0m \u001b[0;34m<\u001b[0m \u001b[0mprob\u001b[0m\u001b[0;34m,\u001b[0m \u001b[0;34m[\u001b[0m\u001b[0mnp\u001b[0m\u001b[0;34m.\u001b[0m\u001b[0mrandom\u001b[0m\u001b[0;34m.\u001b[0m\u001b[0mrand\u001b[0m\u001b[0;34m(\u001b[0m\u001b[0;36m1\u001b[0m\u001b[0;34m)\u001b[0m\u001b[0;34m[\u001b[0m\u001b[0;36m0\u001b[0m\u001b[0;34m]\u001b[0m \u001b[0;32mfor\u001b[0m \u001b[0mi\u001b[0m \u001b[0;32min\u001b[0m \u001b[0mrange\u001b[0m\u001b[0;34m(\u001b[0m\u001b[0mint\u001b[0m\u001b[0;34m(\u001b[0m\u001b[0ma\u001b[0m\u001b[0;34m)\u001b[0m\u001b[0;34m)\u001b[0m\u001b[0;34m]\u001b[0m\u001b[0;34m)\u001b[0m\u001b[0;34m)\u001b[0m\u001b[0;34m)\u001b[0m \u001b[0;34m/\u001b[0m \u001b[0ma\u001b[0m\u001b[0;34m\u001b[0m\u001b[0m\n\u001b[0m",
      "\u001b[0;31mKeyboardInterrupt\u001b[0m: "
     ]
    }
   ],
   "source": [
    "imitation(10, A, pA, p, c, adv, af, prob)"
   ]
  },
  {
   "cell_type": "code",
   "execution_count": 77,
   "metadata": {},
   "outputs": [
    {
     "data": {
      "text/plain": [
       "[[0, 1965570.6500000001, 3896197.6341626896],\n",
       " [0, 558080.12, 1120638.8402091628],\n",
       " [0, 0.0, 1185.411294809498],\n",
       " [0, 0.0, 1051.260335887494],\n",
       " [0, 0.0, 3591.3205839620864]]"
      ]
     },
     "execution_count": 77,
     "metadata": {},
     "output_type": "execute_result"
    }
   ],
   "source": [
    "A"
   ]
  },
  {
   "cell_type": "markdown",
   "metadata": {},
   "source": [
    "## Визуализация\n",
    "\n",
    "должна выглядеть так"
   ]
  },
  {
   "cell_type": "markdown",
   "metadata": {},
   "source": [
    "<img src=\"1.jpg\">"
   ]
  },
  {
   "cell_type": "code",
   "execution_count": null,
   "metadata": {},
   "outputs": [],
   "source": []
  }
 ],
 "metadata": {
  "kernelspec": {
   "display_name": "Python 3",
   "language": "python",
   "name": "python3"
  },
  "language_info": {
   "codemirror_mode": {
    "name": "ipython",
    "version": 3
   },
   "file_extension": ".py",
   "mimetype": "text/x-python",
   "name": "python",
   "nbconvert_exporter": "python",
   "pygments_lexer": "ipython3",
   "version": "3.5.2"
  }
 },
 "nbformat": 4,
 "nbformat_minor": 2
}
